{
 "cells": [
  {
   "cell_type": "markdown",
   "metadata": {},
   "source": [
    "Notes on how Factset python extension installed. \n",
    "\n",
    "First, from the Quick Start guide:\n",
    "\n",
    "To leverage Python with the FactSet Developer’s Toolkit please follow the instructions below.\n",
    "Note: Only Python 2.7 is supported.\n",
    " Open the Developer’s Toolkit ZIP file downloaded from http://www.factset.com/download/statlink/\n",
    " Open the “Python” folder\n",
    " Copy the “clr.pyd” file to the base folder of your Python installation. Example: C:\\python27\n",
    " Copy the “Python.Runtime.dll” file to the base folder of your Python installation. Example: C:\\python27"
   ]
  },
  {
   "cell_type": "code",
   "execution_count": 5,
   "metadata": {
    "collapsed": false,
    "scrolled": true
   },
   "outputs": [
    {
     "data": {
      "text/plain": [
       "'D:\\\\Users\\\\short\\\\AppData\\\\Local\\\\Continuum\\\\Anaconda2\\\\Library\\\\bin;D:\\\\Users\\\\short\\\\AppData\\\\Local\\\\Continuum\\\\Anaconda2\\\\Library\\\\bin;D:\\\\Users\\\\short\\\\AppData\\\\Local\\\\Continuum\\\\Anaconda2;D:\\\\Users\\\\short\\\\AppData\\\\Local\\\\Continuum\\\\Anaconda2\\\\Library\\\\mingw-w64\\\\bin;D:\\\\Users\\\\short\\\\AppData\\\\Local\\\\Continuum\\\\Anaconda2\\\\Library\\\\usr\\\\bin;D:\\\\Users\\\\short\\\\AppData\\\\Local\\\\Continuum\\\\Anaconda2\\\\Library\\\\bin;D:\\\\Users\\\\short\\\\AppData\\\\Local\\\\Continuum\\\\Anaconda2\\\\Scripts;D:\\\\Users\\\\short\\\\AppData\\\\Local\\\\Continuum\\\\Anaconda2\\\\Library\\\\bin;C:\\\\Windows\\\\system32;C:\\\\Windows;C:\\\\Windows\\\\System32\\\\Wbem;C:\\\\Windows\\\\System32\\\\WindowsPowerShell\\\\v1.0\\\\;C:\\\\Program Files\\\\Amazon\\\\cfn-bootstrap\\\\;C:\\\\Windows\\\\System32\\\\WindowsPowerShell\\\\v1.0\\\\;C:\\\\Windows\\\\System32\\\\WindowsPowerShell\\\\v1.0\\\\;C:\\\\Program Files\\\\PuTTY\\\\;D:\\\\Users\\\\short\\\\AppData\\\\Local\\\\Continuum\\\\Anaconda2;D:\\\\Users\\\\short\\\\AppData\\\\Local\\\\Continuum\\\\Anaconda2\\\\Scripts;D:\\\\Users\\\\short\\\\AppData\\\\Local\\\\Continuum\\\\Anaconda2\\\\Library\\\\bin'"
      ]
     },
     "execution_count": 5,
     "metadata": {},
     "output_type": "execute_result"
    }
   ],
   "source": [
    "# Lets see what our path is and see where our base folder is for our python\n",
    "# installation\n",
    "%env PATH"
   ]
  },
  {
   "cell_type": "markdown",
   "metadata": {},
   "source": [
    "Using above condas path, determined that directory to use is\n",
    "D:\\Users\\short\\AppData\\Local\\Continuum\\Anaconda2\n",
    "\n",
    "copied “clr.pyd” and “Python.Runtime.dll”  to this directory"
   ]
  },
  {
   "cell_type": "code",
   "execution_count": 2,
   "metadata": {
    "collapsed": false
   },
   "outputs": [],
   "source": [
    "#load the clr module and use it to load the dll into memory\n",
    "import clr\n",
    "# no errors, great!  lets keep going."
   ]
  },
  {
   "cell_type": "markdown",
   "metadata": {},
   "source": [
    "From comment in sample program\n",
    "#note that the dll needs to be somewhere findable, such as the same folder as this file\n",
    "\n",
    "so copied \"Kratos_3\" to\n",
    "D:\\Users\\short\\AppData\\Local\\Continuum\\Anaconda2"
   ]
  },
  {
   "cell_type": "code",
   "execution_count": 4,
   "metadata": {
    "collapsed": false
   },
   "outputs": [
    {
     "data": {
      "text/plain": [
       "<System.Reflection.RuntimeAssembly at 0x56ef208>"
      ]
     },
     "execution_count": 4,
     "metadata": {},
     "output_type": "execute_result"
    }
   ],
   "source": [
    "clr.AddReference (\"Kratos_3\")\n",
    "# no errors, great!  lets keep going."
   ]
  },
  {
   "cell_type": "code",
   "execution_count": 5,
   "metadata": {
    "collapsed": true
   },
   "outputs": [],
   "source": [
    "#Now that we have loaded Kratos_3 into memory, we can start a FactSetOnDemand object\n",
    "#We also need to load arrays from system in order to be able to create .NET string arrays\n",
    "from System import Array\n",
    "from Kratos_3 import *\n",
    "from Kratos_3.Network import *\n",
    "from Kratos_3.RunTimePlatform import *\n",
    "# no errors, great!  lets keep going."
   ]
  },
  {
   "cell_type": "code",
   "execution_count": 6,
   "metadata": {
    "collapsed": true
   },
   "outputs": [],
   "source": [
    "def printOutFactletResults(df):\n",
    "    if(df.hasError()):\n",
    "        df.throwErrorIfAnyIsPresent()\n",
    "    print(fsod.GetEventLogger().getOutputBuffer())\n",
    "    for row in range(df.getNumberOfRows()):\n",
    "        for col in range(df.getNumberOfColumns()):\n",
    "            o = df.getCellAt(row, col)\n",
    "            print(\"Row: \" + str(row) + \", Col: \" + str(col) + \", Value: \" + str(o)\n",
    "                  \n",
    "    # no errors, great!  lets keep going."
   ]
  },
  {
   "cell_type": "markdown",
   "metadata": {},
   "source": [
    "Below code gave error:\n",
    "Could not load file or assembly 'Newtonsoft.Json, Version=6.0.0.0, Culture=neutral, PublicKeyToken=30ad4fe6b2a6aeed' or one of its dependencies. The system cannot find the file specified.\n",
    "\n",
    "so copied \"Newtonsoft.Json.dll\" and \"Newtonsoft.Json.xml\" to\n",
    "D:\\Users\\short\\AppData\\Local\\Continuum\\Anaconda2"
   ]
  },
  {
   "cell_type": "code",
   "execution_count": 10,
   "metadata": {
    "collapsed": false
   },
   "outputs": [
    {
     "ename": "FileNotFoundException",
     "evalue": "Could not load file or assembly 'Newtonsoft.Json, Version=6.0.0.0, Culture=neutral, PublicKeyToken=30ad4fe6b2a6aeed' or one of its dependencies. The system cannot find the file specified.\n   at Kratos_3.Config.ConfigFileManager.readAndCacheValues()\r\n   at Kratos_3.Config.ConfigFileManager.getValue[T](String name)\r\n   at Kratos_3.Config.ConfigFileManager.getConfigBool(ConfigOptions name)\r\n   at Kratos_3.RunTimePlatform.FactSetOnDemand.IsUsingRegistry(IConfigManager cfm)\r\n   at Kratos_3.RunTimePlatform.FactSetOnDemand.SetUpConfig(IConfigManager cfm)\r\n   at Kratos_3.RunTimePlatform.FactSetOnDemand.Initialize(Boolean intDates, String format, String client)",
     "output_type": "error",
     "traceback": [
      "\u001b[0;31m---------------------------------------------------------------------------\u001b[0m",
      "\u001b[0;31mFileNotFoundException\u001b[0m                     Traceback (most recent call last)",
      "\u001b[0;32m<ipython-input-10-b0eb6bd2cf7a>\u001b[0m in \u001b[0;36m<module>\u001b[0;34m()\u001b[0m\n\u001b[0;32m----> 1\u001b[0;31m \u001b[0mfsod\u001b[0m \u001b[1;33m=\u001b[0m \u001b[0mFactSetOnDemand\u001b[0m\u001b[1;33m(\u001b[0m\u001b[1;33m)\u001b[0m\u001b[1;33m\u001b[0m\u001b[0m\n\u001b[0m",
      "\u001b[0;31mFileNotFoundException\u001b[0m: Could not load file or assembly 'Newtonsoft.Json, Version=6.0.0.0, Culture=neutral, PublicKeyToken=30ad4fe6b2a6aeed' or one of its dependencies. The system cannot find the file specified.\n   at Kratos_3.Config.ConfigFileManager.readAndCacheValues()\r\n   at Kratos_3.Config.ConfigFileManager.getValue[T](String name)\r\n   at Kratos_3.Config.ConfigFileManager.getConfigBool(ConfigOptions name)\r\n   at Kratos_3.RunTimePlatform.FactSetOnDemand.IsUsingRegistry(IConfigManager cfm)\r\n   at Kratos_3.RunTimePlatform.FactSetOnDemand.SetUpConfig(IConfigManager cfm)\r\n   at Kratos_3.RunTimePlatform.FactSetOnDemand.Initialize(Boolean intDates, String format, String client)"
     ]
    }
   ],
   "source": [
    "fsod = FactSetOnDemand()\n",
    "# Darn, still getting file not found error."
   ]
  },
  {
   "cell_type": "code",
   "execution_count": null,
   "metadata": {
    "collapsed": true
   },
   "outputs": [],
   "source": []
  }
 ],
 "metadata": {
  "kernelspec": {
   "display_name": "Python 2",
   "language": "python",
   "name": "python2"
  },
  "language_info": {
   "codemirror_mode": {
    "name": "ipython",
    "version": 2
   },
   "file_extension": ".py",
   "mimetype": "text/x-python",
   "name": "python",
   "nbconvert_exporter": "python",
   "pygments_lexer": "ipython2",
   "version": "2.7.13"
  }
 },
 "nbformat": 4,
 "nbformat_minor": 2
}
